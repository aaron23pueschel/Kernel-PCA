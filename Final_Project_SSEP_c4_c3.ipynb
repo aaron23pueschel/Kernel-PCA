{
 "cells": [
  {
   "cell_type": "code",
   "execution_count": 1,
   "id": "6cbaa815-2173-4587-a8e6-77bdd30bf343",
   "metadata": {},
   "outputs": [],
   "source": [
    "import os\n",
    "import numpy as np\n",
    "import matplotlib.pyplot as plt\n",
    "import sklearn.decomposition as sk\n",
    "import Kernel_PCA as FP \n",
    "from sklearn.decomposition import KernelPCA\n",
    "from sklearn.decomposition import PCA\n"
   ]
  },
  {
   "cell_type": "code",
   "execution_count": 2,
   "id": "48619731-0329-4d8a-b263-8aa6696c1ecf",
   "metadata": {},
   "outputs": [
    {
     "ename": "FileNotFoundError",
     "evalue": "[WinError 3] The system cannot find the path specified: 'Trial1'",
     "output_type": "error",
     "traceback": [
      "\u001b[1;31m---------------------------------------------------------------------------\u001b[0m",
      "\u001b[1;31mFileNotFoundError\u001b[0m                         Traceback (most recent call last)",
      "\u001b[1;32m<ipython-input-2-0edf2b382d32>\u001b[0m in \u001b[0;36m<module>\u001b[1;34m\u001b[0m\n\u001b[1;32m----> 1\u001b[1;33m \u001b[0mTrial_1\u001b[0m \u001b[1;33m=\u001b[0m \u001b[0mFP\u001b[0m\u001b[1;33m.\u001b[0m\u001b[0mclean_data\u001b[0m\u001b[1;33m(\u001b[0m\u001b[1;34m\"Trial1\"\u001b[0m\u001b[1;33m)\u001b[0m\u001b[1;33m\u001b[0m\u001b[1;33m\u001b[0m\u001b[0m\n\u001b[0m\u001b[0;32m      2\u001b[0m \u001b[0mTrial_2\u001b[0m \u001b[1;33m=\u001b[0m \u001b[0mFP\u001b[0m\u001b[1;33m.\u001b[0m\u001b[0mclean_data\u001b[0m\u001b[1;33m(\u001b[0m\u001b[1;34m\"Trial2\"\u001b[0m\u001b[1;33m)\u001b[0m\u001b[1;33m\u001b[0m\u001b[1;33m\u001b[0m\u001b[0m\n",
      "\u001b[1;32mc:\\Users\\aaron\\Documents\\Computer Visualization\\Kernel-PCA\\Kernel_PCA.py\u001b[0m in \u001b[0;36mclean_data\u001b[1;34m(file_name)\u001b[0m\n\u001b[0;32m      6\u001b[0m \u001b[1;32mdef\u001b[0m \u001b[0mclean_data\u001b[0m\u001b[1;33m(\u001b[0m\u001b[0mfile_name\u001b[0m\u001b[1;33m)\u001b[0m\u001b[1;33m:\u001b[0m\u001b[1;33m\u001b[0m\u001b[1;33m\u001b[0m\u001b[0m\n\u001b[0;32m      7\u001b[0m     \u001b[0mdata_trial_1\u001b[0m \u001b[1;33m=\u001b[0m \u001b[1;33m[\u001b[0m\u001b[1;33m]\u001b[0m\u001b[1;33m\u001b[0m\u001b[1;33m\u001b[0m\u001b[0m\n\u001b[1;32m----> 8\u001b[1;33m     \u001b[0mfiles\u001b[0m \u001b[1;33m=\u001b[0m \u001b[0mos\u001b[0m\u001b[1;33m.\u001b[0m\u001b[0mlistdir\u001b[0m\u001b[1;33m(\u001b[0m\u001b[0mfile_name\u001b[0m\u001b[1;33m)\u001b[0m\u001b[1;33m\u001b[0m\u001b[1;33m\u001b[0m\u001b[0m\n\u001b[0m\u001b[0;32m      9\u001b[0m     \u001b[1;32mfor\u001b[0m \u001b[0mfile\u001b[0m \u001b[1;32min\u001b[0m \u001b[0mfiles\u001b[0m\u001b[1;33m:\u001b[0m\u001b[1;33m\u001b[0m\u001b[1;33m\u001b[0m\u001b[0m\n\u001b[0;32m     10\u001b[0m         \u001b[0mtrial1\u001b[0m \u001b[1;33m=\u001b[0m \u001b[0mnp\u001b[0m\u001b[1;33m.\u001b[0m\u001b[0mgenfromtxt\u001b[0m\u001b[1;33m(\u001b[0m\u001b[0mfile_name\u001b[0m\u001b[1;33m+\u001b[0m\u001b[1;34m\"/{}\"\u001b[0m\u001b[1;33m.\u001b[0m\u001b[0mformat\u001b[0m\u001b[1;33m(\u001b[0m\u001b[0mfile\u001b[0m\u001b[1;33m)\u001b[0m\u001b[1;33m,\u001b[0m\u001b[0mskip_header\u001b[0m \u001b[1;33m=\u001b[0m \u001b[1;36m10\u001b[0m\u001b[1;33m,\u001b[0m\u001b[0mdtype\u001b[0m\u001b[1;33m=\u001b[0m\u001b[0mnp\u001b[0m\u001b[1;33m.\u001b[0m\u001b[0mcompat\u001b[0m\u001b[1;33m.\u001b[0m\u001b[0municode\u001b[0m\u001b[1;33m,\u001b[0m\u001b[0mdelimiter\u001b[0m \u001b[1;33m=\u001b[0m \u001b[1;34m\",\"\u001b[0m\u001b[1;33m)\u001b[0m\u001b[1;33m.\u001b[0m\u001b[0mtranspose\u001b[0m\u001b[1;33m(\u001b[0m\u001b[1;33m)\u001b[0m\u001b[1;33m\u001b[0m\u001b[1;33m\u001b[0m\u001b[0m\n",
      "\u001b[1;31mFileNotFoundError\u001b[0m: [WinError 3] The system cannot find the path specified: 'Trial1'"
     ]
    }
   ],
   "source": [
    "Trial_1 = FP.clean_data(\"Trial1\")\n",
    "Trial_2 = FP.clean_data(\"Trial2\")"
   ]
  },
  {
   "cell_type": "code",
   "execution_count": null,
   "id": "1177ca5d-5686-49d9-84c6-12d1a09d9d7d",
   "metadata": {
    "tags": []
   },
   "outputs": [],
   "source": [
    "#### We are going to average 10 signals here. Uncomment \n",
    "for i in range(0,10):\n",
    "    c4_c3 = []\n",
    "    gaussian_noise = 0 #np.random.normal(0,.001,Trial_1[i][0].shape)\n",
    "    \n",
    "    ## Choose random data in the trials\n",
    "    c4_c3.append(Trial_1[np.random.randint(0,83,1)[0]][1]+gaussian_noise)"
   ]
  },
  {
   "cell_type": "code",
   "execution_count": null,
   "id": "6d0c3bb6-7477-4fe5-aeeb-17b0ec8d6e23",
   "metadata": {},
   "outputs": [],
   "source": [
    "#### Compute KPCA gaussian\n",
    "\n",
    "### I chose the only parameter for the gaussian kernel to be sigma=10\n",
    "temp = []\n",
    "sigma = 10\n",
    "eigenvalues,eigenvectors = np.linalg.eig(FP.Gram_Matrix(FP.K(c4_c3,sigma)))\n",
    "\n",
    "for z in c4_c3:\n",
    "    p = FP.inverse_function(z,10,eigenvalues,eigenvectors,c4_c3,sigma)\n",
    "    temp.append(p)\n",
    "    \n"
   ]
  },
  {
   "cell_type": "code",
   "execution_count": null,
   "id": "eaa6bea8-7a78-45ba-88ad-ef16a5ebf8fc",
   "metadata": {},
   "outputs": [],
   "source": []
  },
  {
   "cell_type": "code",
   "execution_count": null,
   "id": "487259df-5645-44b1-98ca-35c6058844ff",
   "metadata": {},
   "outputs": [],
   "source": [
    "#### Calculate mean of K\n",
    "temp = np.array(temp)\n",
    "trials = len(c4_c3)\n",
    "average = np.mean(temp,axis=0)\n",
    "x = np.arange(0,len(average))/6.4\n",
    "plt.xlabel(\"milliseconds\")\n",
    "plt.ylabel(\"Mv\")\n",
    "plt.plot(x,np.transpose(temp))\n",
    "#plt.plot(np.transpose(c4_c3))\n",
    "plt.title(\"SSEP signal using KPCA before averaging\")\n",
    "plt.show()\n"
   ]
  },
  {
   "cell_type": "code",
   "execution_count": null,
   "id": "40bced99-9a3a-41d8-966b-2d4587a6b215",
   "metadata": {},
   "outputs": [],
   "source": [
    "#### Compute PCA\n",
    "pca = FP.PCA_(c4_c3)\n",
    "\n",
    "#### Calculate mean of PCA\n",
    "p = np.mean(temp,axis=0)\n",
    "pca_ = np.transpose(pca)\n",
    "x = np.arange(0,len(p))/6.4\n",
    "plt.xlabel(\"milliseconds\")\n",
    "plt.ylabel(\"Mv\")\n",
    "plt.plot(x,pca_)\n",
    "plt.title(\"SSEP signal using PCA before averaging\")\n",
    "plt.savefig(\"c4_c3 SSEP KPCA\")"
   ]
  },
  {
   "cell_type": "code",
   "execution_count": null,
   "id": "2369f0bc-5720-40e4-b09d-9ea36630ccb5",
   "metadata": {},
   "outputs": [],
   "source": [
    "### walsch convolution\n",
    "gauss = FP.walsch_convolution(average)\n",
    "pca_walsch = FP.walsch_convolution(np.mean(pca,axis=0))\n",
    "\n",
    "## Moving average\n",
    "gauss = FP.clip(np.convolve([1,1,1],gauss),100,630)\n",
    "pca_walsch = np.convolve([1,1,1],pca_walsch)\n",
    "plt.plot(FP.clip(pca_walsch,100,630),label=\"KPCA walsch\")\n",
    "plt.plot(FP.clip(gauss,100,630),label=\"PCA walsch\")\n",
    "plt.legend()\n",
    "plt.show()\n",
    "plt.savefig(\"c4_c3 walsch \")"
   ]
  },
  {
   "cell_type": "code",
   "execution_count": null,
   "id": "8dd8302f-dfc6-42f3-b3f2-0f62d8ff519f",
   "metadata": {},
   "outputs": [],
   "source": [
    "### Clip ends of vector\n",
    "gauss = FP.clip(gauss,200,350)\n",
    "pca = FP.clip(pca_walsch,200,350)\n",
    "\n",
    "gauss_max = np.argmax(gauss)\n",
    "gauss_min = np.argmin(gauss)\n",
    "\n",
    "pca_max = np.argmax(pca)\n",
    "pca_min = np.argmin(pca)"
   ]
  },
  {
   "cell_type": "code",
   "execution_count": null,
   "id": "6a15aab5-fb11-49a0-b46d-73549135110e",
   "metadata": {},
   "outputs": [],
   "source": [
    "print(\"N45 Time, gaussian kernel\",FP.percent_time_difference(gauss_max/6.4,42.7))\n",
    "print(\"P37 time, gaussian kernel\",FP.percent_time_difference(gauss_min/6.4,36.9))\n",
    "\n",
    "print(\"N45 Time, PCA\",FP.percent_time_difference(pca_max/6.4,42.7))\n",
    "print(\"P37 time, PCA\",FP.percent_time_difference(pca_min/6.4,36.9))\n",
    "\n"
   ]
  },
  {
   "cell_type": "code",
   "execution_count": null,
   "id": "fd7aff15-418a-4381-868c-1f005e754d84",
   "metadata": {},
   "outputs": [],
   "source": [
    "clinical_mean = np.mean(c4_c3,axis=0)\n",
    "clinical_max = np.argmax(FP.clip(FP.walsch_convolution(np.mean(c4_c3,axis=0)),200,350))\n",
    "clinical_min = np.argmin(FP.clip(FP.walsch_convolution(np.mean(c4_c3,axis=0)),200,350))"
   ]
  },
  {
   "cell_type": "code",
   "execution_count": null,
   "id": "81bbb253-98ff-4f35-9b0a-02c997fa1c9e",
   "metadata": {},
   "outputs": [],
   "source": [
    "np.abs(FP.peak_to_peak_percentage(average[gauss_max]-average[gauss_min],clinical_mean[clinical_max]-clinical_mean[clinical_min]))\n"
   ]
  },
  {
   "cell_type": "code",
   "execution_count": null,
   "id": "6a49651c-2251-492e-b830-c94416f1b759",
   "metadata": {},
   "outputs": [],
   "source": [
    "np.abs(FP.peak_to_peak_percentage(p[gauss_max]-p[gauss_min],clinical_mean[clinical_max]-clinical_mean[clinical_min]))"
   ]
  }
 ],
 "metadata": {
  "kernelspec": {
   "display_name": "Python 3",
   "language": "python",
   "name": "python3"
  },
  "language_info": {
   "codemirror_mode": {
    "name": "ipython",
    "version": 3
   },
   "file_extension": ".py",
   "mimetype": "text/x-python",
   "name": "python",
   "nbconvert_exporter": "python",
   "pygments_lexer": "ipython3",
   "version": "3.8.8"
  }
 },
 "nbformat": 4,
 "nbformat_minor": 5
}
